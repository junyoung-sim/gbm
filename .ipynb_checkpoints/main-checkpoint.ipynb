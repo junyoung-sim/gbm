{
 "cells": [
  {
   "cell_type": "code",
   "execution_count": 1,
   "id": "88c4eebc",
   "metadata": {},
   "outputs": [],
   "source": [
    "import sys\n",
    "import numpy as np\n",
    "import pandas as pd\n",
    "import seaborn as sns\n",
    "from download import download"
   ]
  },
  {
   "cell_type": "code",
   "execution_count": 2,
   "id": "aa3f0496",
   "metadata": {},
   "outputs": [
    {
     "name": "stdout",
     "output_type": "stream",
     "text": [
      "Ticker: AAPL\n"
     ]
    }
   ],
   "source": [
    "ticker = input(\"Ticker: \")\n",
    "apikey = open(\"apikey\", \"r\").readline()\n",
    "#download(ticker, apikey)"
   ]
  },
  {
   "cell_type": "code",
   "execution_count": 3,
   "id": "2ee47c57",
   "metadata": {},
   "outputs": [
    {
     "name": "stdout",
     "output_type": "stream",
     "text": [
      "            date        open        high         low       close    adjClose  \\\n",
      "0     2000-01-03    0.936384    1.004464    0.907924    0.999442    0.849468   \n",
      "1     2000-01-04    0.966518    0.987723    0.903460    0.915179    0.777850   \n",
      "2     2000-01-05    0.926339    0.987165    0.919643    0.928571    0.789232   \n",
      "3     2000-01-06    0.947545    0.955357    0.848214    0.848214    0.720933   \n",
      "4     2000-01-07    0.861607    0.901786    0.852679    0.888393    0.755083   \n",
      "...          ...         ...         ...         ...         ...         ...   \n",
      "5890  2023-06-01  177.700000  180.120000  176.930600  180.090000  180.089996   \n",
      "5891  2023-06-02  181.030000  181.780000  179.260000  180.950000  180.949997   \n",
      "5892  2023-06-05  182.630000  184.951000  178.035000  179.580000  179.580002   \n",
      "5893  2023-06-06  179.965000  180.120000  177.430000  179.210000  179.210007   \n",
      "5894  2023-06-07  178.440000  181.210000  178.221000  179.270600  179.270600   \n",
      "\n",
      "         volume  unadjustedVolume    change  changePercent       vwap  \\\n",
      "0     535796800         535796800  0.063058       6.730000    0.97061   \n",
      "1     512377600         512377600 -0.051339      -5.310000    0.93545   \n",
      "2     778321600         778321600  0.002232       0.240950    0.94513   \n",
      "3     767972800         767972800 -0.099331     -10.480000    0.88393   \n",
      "4     460734400         460734400  0.026786       3.110000    0.88095   \n",
      "...         ...               ...       ...            ...        ...   \n",
      "5890   68901712          68901800  2.390000       1.340000  179.38000   \n",
      "5891   61996852          61945900 -0.080000      -0.044192  180.65000   \n",
      "5892  121722517         121946500 -3.050000      -1.670000  182.14000   \n",
      "5893   64507864          62679931 -0.755000      -0.419530  178.71000   \n",
      "5894   20933025          20933025  0.830600       0.465479  179.57000   \n",
      "\n",
      "               label  changeOverTime  \n",
      "0     January 03, 00        0.067300  \n",
      "1     January 04, 00       -0.053100  \n",
      "2     January 05, 00        0.002410  \n",
      "3     January 06, 00       -0.104800  \n",
      "4     January 07, 00        0.031100  \n",
      "...              ...             ...  \n",
      "5890     June 01, 23        0.013400  \n",
      "5891     June 02, 23       -0.000442  \n",
      "5892     June 05, 23       -0.016700  \n",
      "5893     June 06, 23       -0.004195  \n",
      "5894     June 07, 23        0.004655  \n",
      "\n",
      "[5895 rows x 13 columns]\n"
     ]
    }
   ],
   "source": [
    "dat = pd.read_csv(\"./data/{}.csv\" .format(ticker))\n",
    "dat = dat.loc[::-1].reset_index().drop(columns=[\"index\"])\n",
    "print(dat)"
   ]
  },
  {
   "cell_type": "code",
   "execution_count": 4,
   "id": "7f396575",
   "metadata": {},
   "outputs": [
    {
     "name": "stdout",
     "output_type": "stream",
     "text": [
      "AAPL Daily P&L Statistics (%)\n",
      "                 0\n",
      "count  5894.000000\n",
      "mean      0.123323\n",
      "std       2.496548\n",
      "min     -51.869153\n",
      "25%      -1.030302\n",
      "50%       0.088918\n",
      "75%       1.305209\n",
      "max      13.904901\n"
     ]
    }
   ],
   "source": [
    "daily_returns = []\n",
    "for t in range(1, dat.shape[0]):\n",
    "    daily_returns.append((dat[\"adjClose\"][t] - dat[\"adjClose\"][t-1]) * 100 / dat[\"adjClose\"][t-1])\n",
    "daily_returns = np.array(daily_returns)\n",
    "\n",
    "print(\"{} Daily P&L Statistics (%)\" .format(ticker))\n",
    "print(pd.DataFrame(daily_returns).describe())"
   ]
  },
  {
   "cell_type": "code",
   "execution_count": 5,
   "id": "e2c06be3",
   "metadata": {},
   "outputs": [
    {
     "data": {
      "text/plain": [
       "[Text(0.5, 0, 'AAPL Daily P&L'), Text(0, 0.5, 'Frequency')]"
      ]
     },
     "execution_count": 5,
     "metadata": {},
     "output_type": "execute_result"
    },
    {
     "data": {
      "image/png": "[encoded data removed]",
      "text/plain": [
       "<Figure size 640x480 with 1 Axes>"
      ]
     },
     "metadata": {},
     "output_type": "display_data"
    }
   ],
   "source": [
    "ax = sns.histplot(data=daily_returns, binwidth=1.0, color=\"lightblue\")\n",
    "ax.set(xlabel=\"{} Daily P&L\" .format(ticker), ylabel=\"Frequency\")"
   ]
  },
  {
   "cell_type": "code",
   "execution_count": null,
   "id": "43e79c51",
   "metadata": {},
   "outputs": [],
   "source": []
  }
 ],
 "metadata": {
  "kernelspec": {
   "display_name": "Python 3 (ipykernel)",
   "language": "python",
   "name": "python3"
  },
  "language_info": {
   "codemirror_mode": {
    "name": "ipython",
    "version": 3
   },
   "file_extension": ".py",
   "mimetype": "text/x-python",
   "name": "python",
   "nbconvert_exporter": "python",
   "pygments_lexer": "ipython3",
   "version": "3.10.6"
  }
 },
 "nbformat": 4,
 "nbformat_minor": 5
}
